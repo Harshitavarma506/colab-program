{
  "nbformat": 4,
  "nbformat_minor": 0,
  "metadata": {
    "colab": {
      "provenance": [],
      "authorship_tag": "ABX9TyNRervij/XEMM7xAbI0iVI4",
      "include_colab_link": true
    },
    "kernelspec": {
      "name": "python3",
      "display_name": "Python 3"
    },
    "language_info": {
      "name": "python"
    }
  },
  "cells": [
    {
      "cell_type": "markdown",
      "metadata": {
        "id": "view-in-github",
        "colab_type": "text"
      },
      "source": [
        "<a href=\"https://colab.research.google.com/github/Harshitavarma506/colab-program/blob/main/Untitled3.ipynb\" target=\"_parent\"><img src=\"https://colab.research.google.com/assets/colab-badge.svg\" alt=\"Open In Colab\"/></a>"
      ]
    },
    {
      "cell_type": "code",
      "execution_count": 1,
      "metadata": {
        "colab": {
          "base_uri": "https://localhost:8080/"
        },
        "id": "DdjKpeg2oFfK",
        "outputId": "54da819d-5050-4d54-b9e6-cdad3bb4115b"
      },
      "outputs": [
        {
          "output_type": "stream",
          "name": "stdout",
          "text": [
            "Hello John, you are 25 years old.\n"
          ]
        }
      ],
      "source": [
        "# Hard coded variables\n",
        "name = \"John\"\n",
        "age = 25\n",
        "greeting = f\"Hello {name}, you are {age} years old.\"\n",
        "print(greeting)"
      ]
    },
    {
      "cell_type": "code",
      "source": [
        "# Keyboard input\n",
        "user_name = input(\"Enter your name: \")\n",
        "user_age = int(input(\"Enter your age: \"))\n",
        "\n",
        "user_greeting = f\"Hello {user_name}, you are {user_age} years old.\"\n",
        "print(user_greeting)"
      ],
      "metadata": {
        "colab": {
          "base_uri": "https://localhost:8080/"
        },
        "id": "tGGlaZLvpbus",
        "outputId": "10815618-dee4-470b-f854-2a3ab03face8"
      },
      "execution_count": 2,
      "outputs": [
        {
          "output_type": "stream",
          "name": "stdout",
          "text": [
            "Enter your name: harshita\n",
            "Enter your age: 20\n",
            "Hello harshita, you are 20 years old.\n"
          ]
        }
      ]
    },
    {
      "cell_type": "code",
      "source": [
        "# Create a file with name and age\n",
        "with open('input.txt', 'w') as file:\n",
        "    file.write(\"John\\n\")\n",
        "    file.write(\"25\")\n",
        "\n",
        "with open('input.txt', 'r') as file:\n",
        "    name = file.readline().strip()\n",
        "    age = file.readline().strip()\n",
        "print(f\"Name: {name}, Age: {age}\")"
      ],
      "metadata": {
        "colab": {
          "base_uri": "https://localhost:8080/"
        },
        "id": "0DcQjgv3z1YH",
        "outputId": "08f91f98-f9db-4e07-ee20-e36209a9e376"
      },
      "execution_count": 7,
      "outputs": [
        {
          "output_type": "stream",
          "name": "stdout",
          "text": [
            "Name: John, Age: 25\n"
          ]
        }
      ]
    },
    {
      "cell_type": "code",
      "source": [
        "#Read names and favorite fruits from the file\n",
        "with open('names_favorite_fruits.txt', 'r') as file:\n",
        "    lines = file.readlines()\n",
        "\n",
        "for line in lines:\n",
        "    name, fruit = line.strip().split(',')\n",
        "    print(f\"Name: {name}, Favorite Fruit: {fruit}\")"
      ],
      "metadata": {
        "colab": {
          "base_uri": "https://localhost:8080/"
        },
        "id": "V09f8k-yzKo0",
        "outputId": "b49357ab-9008-481a-bab1-d552d70024f3"
      },
      "execution_count": 5,
      "outputs": [
        {
          "output_type": "stream",
          "name": "stdout",
          "text": [
            "Name: Alice, Favorite Fruit:  Orange\n",
            "Name: Jane, Favorite Fruit:  Kiwi\n",
            "Name: Rahul, Favorite Fruit:  Banana\n",
            "Name: Ramya, Favorite Fruit:  Mango\n",
            "Name: Vidya, Favorite Fruit:  Apple\n"
          ]
        }
      ]
    }
  ]
}